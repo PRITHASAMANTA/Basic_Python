{
  "nbformat": 4,
  "nbformat_minor": 0,
  "metadata": {
    "colab": {
      "provenance": []
    },
    "kernelspec": {
      "name": "python3",
      "display_name": "Python 3"
    },
    "language_info": {
      "name": "python"
    }
  },
  "cells": [
    {
      "cell_type": "markdown",
      "source": [
        "# Factorial of a number"
      ],
      "metadata": {
        "id": "ZqGjz7YwZGzD"
      }
    },
    {
      "cell_type": "code",
      "execution_count": null,
      "metadata": {
        "colab": {
          "base_uri": "https://localhost:8080/"
        },
        "id": "onpcx8psXpUy",
        "outputId": "113364fd-ba8b-420f-a00d-a40f69174d52"
      },
      "outputs": [
        {
          "output_type": "stream",
          "name": "stdout",
          "text": [
            "factorial of num is : 120\n"
          ]
        }
      ],
      "source": [
        "num=5\n",
        "fact=1\n",
        "if num<0:\n",
        "  print(\"why are u giving negative number, haven't studied maths? \")\n",
        "else:\n",
        "  for i in range(1,num+1):\n",
        "    fact=fact*i\n",
        "print(\"factorial of num is :\" ,fact)"
      ]
    },
    {
      "cell_type": "code",
      "source": [
        "# Recursive approch\n"
      ],
      "metadata": {
        "id": "ATlDM1rnYjAH"
      },
      "execution_count": null,
      "outputs": []
    },
    {
      "cell_type": "markdown",
      "source": [
        "**# FUNCTIONS :** A functions is a block of\n",
        "code that design to perform a specific task !\n",
        "\n",
        "# In python it is declared or defined by \"def\".\n",
        "\n",
        "\n",
        "\n",
        "\n"
      ],
      "metadata": {
        "id": "Kdgba7jYb9VH"
      }
    },
    {
      "cell_type": "code",
      "source": [
        "def teja_winner():        # defining func\n",
        "  print(\"teja is winner\")\n",
        "teja_winner()               # calling func"
      ],
      "metadata": {
        "colab": {
          "base_uri": "https://localhost:8080/"
        },
        "id": "ac4XSi1scda7",
        "outputId": "478754d2-aab3-47d6-dd8d-5ebe6c3f943b"
      },
      "execution_count": null,
      "outputs": [
        {
          "output_type": "stream",
          "name": "stdout",
          "text": [
            "teja is winner\n"
          ]
        }
      ]
    },
    {
      "cell_type": "markdown",
      "source": [
        "#Arguments / Parameters :\n",
        "we can use some values withing the functions,that are called argument or parameter"
      ],
      "metadata": {
        "id": "GtBYletGc3LZ"
      }
    },
    {
      "cell_type": "code",
      "source": [
        "def func(fname,lname):\n",
        "  print(\"the fullname is :\",fname+ \" \" + lname )\n",
        "func(\"Pritha\",\"Samanta\")"
      ],
      "metadata": {
        "colab": {
          "base_uri": "https://localhost:8080/"
        },
        "id": "WWelqoVKcu3b",
        "outputId": "a8d9e2e1-43bf-435d-ede7-7b352080d3e7"
      },
      "execution_count": null,
      "outputs": [
        {
          "output_type": "stream",
          "name": "stdout",
          "text": [
            "the fullname is : Pritha Samanta\n"
          ]
        }
      ]
    },
    {
      "cell_type": "markdown",
      "source": [
        "#Arbitarary argument:\n",
        "when you donot know the number of argument"
      ],
      "metadata": {
        "id": "CSRFrb0sdkjZ"
      }
    },
    {
      "cell_type": "code",
      "source": [
        "def func(*students):\n",
        "  print(\"the student at merit position is \" + students[2])\n",
        "func(\"pri\",\"tha\",\"sam\",\"rai\")"
      ],
      "metadata": {
        "colab": {
          "base_uri": "https://localhost:8080/"
        },
        "id": "_vZwHOCqda0Y",
        "outputId": "fa9b7e59-1726-48a9-b63d-582f6f7e255e"
      },
      "execution_count": null,
      "outputs": [
        {
          "output_type": "stream",
          "name": "stdout",
          "text": [
            "the student at merit position is sam\n"
          ]
        }
      ]
    },
    {
      "cell_type": "code",
      "source": [
        "def fun(fname=\"pritha\"):\n",
        "  print(\"the full name is \",fname)\n",
        "fun()   #defult argument taking\n",
        "fun(\"komal\")  # giving komal as a argument"
      ],
      "metadata": {
        "colab": {
          "base_uri": "https://localhost:8080/"
        },
        "id": "Mgk0Oj13d9_4",
        "outputId": "dee524fe-d55a-477e-8469-0a668f87cb42"
      },
      "execution_count": null,
      "outputs": [
        {
          "output_type": "stream",
          "name": "stdout",
          "text": [
            "the full name is  pritha\n",
            "the full name is  komal\n"
          ]
        }
      ]
    },
    {
      "cell_type": "code",
      "source": [
        "def fun(c):\n",
        "  return 10*c\n",
        "num = fun(6)\n",
        "print(num)"
      ],
      "metadata": {
        "colab": {
          "base_uri": "https://localhost:8080/"
        },
        "id": "8ta7II0KeSZt",
        "outputId": "36093823-ec49-48be-aea6-b4041f3ef99f"
      },
      "execution_count": null,
      "outputs": [
        {
          "output_type": "stream",
          "name": "stdout",
          "text": [
            "60\n"
          ]
        }
      ]
    },
    {
      "cell_type": "code",
      "source": [
        "def sum(a,b):\n",
        "  return a+b\n",
        "print(sum(10,20))"
      ],
      "metadata": {
        "colab": {
          "base_uri": "https://localhost:8080/"
        },
        "id": "l-OVNcAFevG9",
        "outputId": "58bc7e88-d63d-4459-c7e5-38691f029439"
      },
      "execution_count": null,
      "outputs": [
        {
          "output_type": "stream",
          "name": "stdout",
          "text": [
            "30\n"
          ]
        }
      ]
    },
    {
      "cell_type": "code",
      "source": [
        "\n",
        "def fact(n):\n",
        "  while n>0:\n",
        "  return fact(n-1)*n;\n",
        "print(fact(5))"
      ],
      "metadata": {
        "colab": {
          "base_uri": "https://localhost:8080/"
        },
        "id": "h8YvwqPge47D",
        "outputId": "3f83e312-c9f0-4628-dd34-66efb126e037"
      },
      "execution_count": null,
      "outputs": [
        {
          "metadata": {
            "tags": null
          },
          "name": "stderr",
          "output_type": "stream",
          "text": [
            "ERROR:root:Internal Python error in the inspect module.\n",
            "Below is the traceback from this internal error.\n",
            "\n"
          ]
        },
        {
          "metadata": {
            "tags": null
          },
          "name": "stdout",
          "output_type": "stream",
          "text": [
            "Traceback (most recent call last):\n"
          ]
        },
        {
          "output_type": "stream",
          "name": "stderr",
          "text": [
            "ERROR:root:Internal Python error in the inspect module.\n",
            "Below is the traceback from this internal error.\n",
            "\n"
          ]
        }
      ]
    },
    {
      "cell_type": "markdown",
      "source": [
        "# List : list are collection of element that are ordered, and it is changeable means mutable!"
      ],
      "metadata": {
        "id": "N1lTtF5VgGuI"
      }
    },
    {
      "cell_type": "code",
      "source": [
        "#list\n",
        "\n",
        "my_list=[3,4,5,6,7]\n",
        "print(my_list)\n",
        "#Append function # Pop\n",
        "my_list.append(10)\n",
        "print(my_list)\n",
        "element =my_list.pop()\n",
        "print(element)\n",
        "print(my_list)\n",
        "\n",
        "#insert function\n",
        "\n",
        "my_list.insert(5,16)\n",
        "element=my_list[5]\n",
        "print(element)\n",
        "print(my_list)\n",
        "\n",
        "my_list.insert(4,13)\n",
        "element=my_list[4]\n",
        "print(element)\n",
        "print(my_list)"
      ],
      "metadata": {
        "id": "l1dP9MfIfRuG",
        "colab": {
          "base_uri": "https://localhost:8080/"
        },
        "outputId": "248d7274-355f-4f3a-bc55-b61a24451d5f"
      },
      "execution_count": 11,
      "outputs": [
        {
          "output_type": "stream",
          "name": "stdout",
          "text": [
            "[3, 4, 5, 6, 7]\n",
            "[3, 4, 5, 6, 7, 10]\n",
            "10\n",
            "[3, 4, 5, 6, 7]\n",
            "16\n",
            "[3, 4, 5, 6, 7, 16]\n",
            "13\n",
            "[3, 4, 5, 6, 13, 7, 16]\n"
          ]
        }
      ]
    },
    {
      "cell_type": "code",
      "source": [],
      "metadata": {
        "id": "YA0f1iHsgWdx",
        "colab": {
          "base_uri": "https://localhost:8080/"
        },
        "outputId": "cc13ac16-3d01-4691-b258-5e1d59d66607"
      },
      "execution_count": 9,
      "outputs": [
        {
          "output_type": "stream",
          "name": "stdout",
          "text": [
            "[3, 4, 5, 6, 16, 10]\n",
            "10\n",
            "16\n"
          ]
        }
      ]
    },
    {
      "cell_type": "code",
      "source": [
        "element =my_list.pop()\n",
        "print(element)"
      ],
      "metadata": {
        "colab": {
          "base_uri": "https://localhost:8080/"
        },
        "id": "R-n5zFrkgvxQ",
        "outputId": "b0221b74-999b-4230-b996-527af278611e"
      },
      "execution_count": 4,
      "outputs": [
        {
          "output_type": "stream",
          "name": "stdout",
          "text": [
            "7\n"
          ]
        }
      ]
    },
    {
      "cell_type": "markdown",
      "source": [],
      "metadata": {
        "id": "4g0kgj-8hurC"
      }
    },
    {
      "cell_type": "code",
      "source": [],
      "metadata": {
        "id": "A-dyh9kWhAA3"
      },
      "execution_count": null,
      "outputs": []
    }
  ]
}