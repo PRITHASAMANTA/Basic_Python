{
  "nbformat": 4,
  "nbformat_minor": 0,
  "metadata": {
    "colab": {
      "provenance": []
    },
    "kernelspec": {
      "name": "python3",
      "display_name": "Python 3"
    },
    "language_info": {
      "name": "python"
    }
  },
  "cells": [
    {
      "cell_type": "markdown",
      "source": [
        "Dictionaries :\n",
        "are used to store the key value pairs\n",
        "As per python 3.7 dictionaries are ordered. but before that it as unordered.                \n",
        " It is mutable,changable!                             "
      ],
      "metadata": {
        "id": "M8w5zDgxJMv8"
      }
    },
    {
      "cell_type": "code",
      "execution_count": 4,
      "metadata": {
        "colab": {
          "base_uri": "https://localhost:8080/",
          "height": 0
        },
        "id": "R7vUaOSJJH6e",
        "outputId": "e7d8a7cf-e520-4d66-dc29-32f6195a480c"
      },
      "outputs": [
        {
          "output_type": "stream",
          "name": "stdout",
          "text": [
            "{'brand': 'land rover', 'model': 'defender', 'owner name': 'pritha', 'year': 2024}\n"
          ]
        }
      ],
      "source": [
        "dict={\n",
        "    \"brand\": \"land rover\",\n",
        "    \"model\": \"defender\",\n",
        "    \"owner name\":\"pritha\",\n",
        "    \"year\":2024\n",
        "\n",
        "}\n",
        "print(dict)\n"
      ]
    },
    {
      "cell_type": "code",
      "source": [
        "#accessing the items\n",
        "print(dict[\"brand\"])\n",
        "\n",
        "# or\n",
        "# x=dict[\"brand\"]\n",
        "# print(x)\n"
      ],
      "metadata": {
        "colab": {
          "base_uri": "https://localhost:8080/",
          "height": 0
        },
        "id": "caSrWWBFK5x_",
        "outputId": "e9880b91-0ff2-479a-ee93-b63fad0d6029"
      },
      "execution_count": 7,
      "outputs": [
        {
          "output_type": "stream",
          "name": "stdout",
          "text": [
            "land rover\n"
          ]
        }
      ]
    },
    {
      "cell_type": "code",
      "source": [
        "y=dict.keys()\n",
        "print(y)"
      ],
      "metadata": {
        "colab": {
          "base_uri": "https://localhost:8080/",
          "height": 0
        },
        "id": "LMN66mFXLpLm",
        "outputId": "0b790a7e-38df-42c0-9f56-00ffc2604db1"
      },
      "execution_count": 8,
      "outputs": [
        {
          "output_type": "stream",
          "name": "stdout",
          "text": [
            "dict_keys(['brand', 'model', 'owner name', 'year'])\n"
          ]
        }
      ]
    },
    {
      "cell_type": "code",
      "source": [
        "#updating\n",
        "dict['owner name']=\"ayan\"\n",
        "print(dict['owner name'])"
      ],
      "metadata": {
        "colab": {
          "base_uri": "https://localhost:8080/",
          "height": 0
        },
        "id": "-PzkBwZlL4PT",
        "outputId": "8ffc0359-e86e-47a3-ba86-32bbc8958ed4"
      },
      "execution_count": 9,
      "outputs": [
        {
          "output_type": "stream",
          "name": "stdout",
          "text": [
            "ayan\n"
          ]
        }
      ]
    },
    {
      "cell_type": "code",
      "source": [
        "#update with update function\n",
        "dict.update({\"model\":\"bmw\"})\n",
        "print(dict[\"model\"])"
      ],
      "metadata": {
        "colab": {
          "base_uri": "https://localhost:8080/",
          "height": 0
        },
        "id": "iTruEbYwMVfJ",
        "outputId": "e1322ecd-3762-413f-8539-0732a7617b0d"
      },
      "execution_count": 11,
      "outputs": [
        {
          "output_type": "stream",
          "name": "stdout",
          "text": [
            "bmw\n"
          ]
        }
      ]
    },
    {
      "cell_type": "code",
      "source": [
        "## Add something to dictionary\n",
        "\n",
        "dict[\"color\"]=\"black\"\n",
        "print(dict)"
      ],
      "metadata": {
        "colab": {
          "base_uri": "https://localhost:8080/",
          "height": 0
        },
        "id": "3UcCvlbxMwcy",
        "outputId": "b83ee5d9-2e5d-4a5a-ade9-328b4cd5c882"
      },
      "execution_count": 12,
      "outputs": [
        {
          "output_type": "stream",
          "name": "stdout",
          "text": [
            "{'brand': 'land rover', 'model': 'bmw', 'owner name': 'ayan', 'year': 2024, 'color': 'black'}\n"
          ]
        }
      ]
    },
    {
      "cell_type": "markdown",
      "source": [
        "# see the above output : understand everything is in order !"
      ],
      "metadata": {
        "id": "zTdGR2HBNWFK"
      }
    },
    {
      "cell_type": "code",
      "source": [
        "dict.pop(\"color\") # dict.pop only remove specific items otherwise it will remove last inserted items\n",
        "print(dict)"
      ],
      "metadata": {
        "colab": {
          "base_uri": "https://localhost:8080/",
          "height": 0
        },
        "id": "bs9oc-mSNLsD",
        "outputId": "4381e69e-194b-4230-f04b-c658044d4a2d"
      },
      "execution_count": 13,
      "outputs": [
        {
          "output_type": "stream",
          "name": "stdout",
          "text": [
            "{'brand': 'land rover', 'model': 'bmw', 'owner name': 'ayan', 'year': 2024}\n"
          ]
        }
      ]
    },
    {
      "cell_type": "markdown",
      "source": [
        "# OOPs in dictionaries"
      ],
      "metadata": {
        "id": "9B1wLwFAOPLG"
      }
    },
    {
      "cell_type": "code",
      "source": [
        "dict={\n",
        "    \"student\":\"bheemesh\",\n",
        "    \"age\": 18,\n",
        "    \"college\":\"prepinsta\"\n",
        "}\n",
        "\n",
        "for x in dict:\n",
        "  print(x)\n",
        "print(\"now the values are :\")\n",
        "for x in dict:\n",
        "  print(dict[x])\n",
        "\n",
        "\n"
      ],
      "metadata": {
        "colab": {
          "base_uri": "https://localhost:8080/",
          "height": 0
        },
        "id": "11i5as-SN257",
        "outputId": "a67dde93-966a-411e-bb9f-7cc21bb89b03"
      },
      "execution_count": 23,
      "outputs": [
        {
          "output_type": "stream",
          "name": "stdout",
          "text": [
            "student\n",
            "age\n",
            "college\n",
            "now the values are :\n",
            "bheemesh\n",
            "18\n",
            "prepinsta\n"
          ]
        }
      ]
    },
    {
      "cell_type": "code",
      "source": [
        "for x in dict.values():\n",
        "  print(x)"
      ],
      "metadata": {
        "colab": {
          "base_uri": "https://localhost:8080/",
          "height": 0
        },
        "id": "N9Awe_jJOkQy",
        "outputId": "6efc1764-2855-4fee-a346-c7b897ff8790"
      },
      "execution_count": 22,
      "outputs": [
        {
          "output_type": "stream",
          "name": "stdout",
          "text": [
            "bheemesh\n",
            "18\n",
            "prepinsta\n"
          ]
        }
      ]
    },
    {
      "cell_type": "code",
      "source": [
        "print(\"now the key value pairs are :\")\n",
        "for x,y in dict.items():\n",
        "  print(x,y)"
      ],
      "metadata": {
        "colab": {
          "base_uri": "https://localhost:8080/",
          "height": 0
        },
        "id": "hiFVo_IrPMX3",
        "outputId": "37c98b27-f21e-49c5-e5a0-b1631ac66883"
      },
      "execution_count": 24,
      "outputs": [
        {
          "output_type": "stream",
          "name": "stdout",
          "text": [
            "now the key value pairs are :\n",
            "student bheemesh\n",
            "age 18\n",
            "college prepinsta\n"
          ]
        }
      ]
    },
    {
      "cell_type": "markdown",
      "source": [
        "# OOPs : structure of classes and object froms object oriented programming\n",
        "\n",
        "Advantage : provide reusability\n",
        " give clear structure program\n",
        "\n",
        "\n",
        "# class : define the properties of obj\n",
        "#obkect : real world entities or instance\n",
        "\n",
        "example:   class bimesh\n",
        "\n",
        "            age =18  --->entities"
      ],
      "metadata": {
        "id": "8H9FW6yRP1I6"
      }
    },
    {
      "cell_type": "code",
      "source": [],
      "metadata": {
        "id": "tZo8dv5PPgKZ"
      },
      "execution_count": null,
      "outputs": []
    }
  ]
}