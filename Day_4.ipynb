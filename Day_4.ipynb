{
  "nbformat": 4,
  "nbformat_minor": 0,
  "metadata": {
    "colab": {
      "provenance": []
    },
    "kernelspec": {
      "name": "python3",
      "display_name": "Python 3"
    },
    "language_info": {
      "name": "python"
    }
  },
  "cells": [
    {
      "cell_type": "markdown",
      "source": [
        "\n",
        "1.find max min value in a list             \n",
        "2.Tuples                                         \n",
        "3.Sets                                          \n",
        "4.List comprehension                            \n"
      ],
      "metadata": {
        "id": "ADg91y7IJ45v"
      }
    },
    {
      "cell_type": "code",
      "execution_count": 1,
      "metadata": {
        "colab": {
          "base_uri": "https://localhost:8080/"
        },
        "id": "xsJpWxCMJrub",
        "outputId": "7d8e05d7-9dbd-4ce3-c4bb-8ed273b7e79e"
      },
      "outputs": [
        {
          "output_type": "stream",
          "name": "stdout",
          "text": [
            "[10, 30, 1, 45, 90, 102]\n",
            "minimum value is : 1\n",
            "maximum value is : 102\n"
          ]
        }
      ],
      "source": [
        "list=[10,30,1,45,90,102]\n",
        "print(list)\n",
        "minimum = min(list)\n",
        "maximum = max(list)\n",
        "print(\"minimum value is :\" , minimum)\n",
        "print(\"maximum value is :\" ,maximum)"
      ]
    },
    {
      "cell_type": "markdown",
      "source": [
        "#Tuples : use ()\n",
        " -> it is ordered collection like a list\n",
        " -> duplicates are allowed\n",
        " -> elements can not be changed, means immutable\n",
        "\n",
        " # Difference between list and tuples are :   Tuples are imutable but lists are mutable"
      ],
      "metadata": {
        "id": "8zbPjBdxLIjZ"
      }
    },
    {
      "cell_type": "code",
      "source": [
        "#tuple\n",
        "\n",
        "tuple =(9,10,11,12,13,14,10)\n",
        "print(tuple)\n",
        "print(len(tuple))"
      ],
      "metadata": {
        "colab": {
          "base_uri": "https://localhost:8080/"
        },
        "id": "t7oa8plpKmB4",
        "outputId": "f07082fa-1416-45c4-de24-695de686c7de"
      },
      "execution_count": 2,
      "outputs": [
        {
          "output_type": "stream",
          "name": "stdout",
          "text": [
            "(9, 10, 11, 12, 13, 14, 10)\n",
            "7\n"
          ]
        }
      ]
    },
    {
      "cell_type": "code",
      "source": [
        "# List Comprehension : list and loops are combined , where we need to reduce the size of code\n",
        "\n",
        "pritha_list=[x**2 for x in range(1,6)]\n",
        "print(pritha_list)"
      ],
      "metadata": {
        "colab": {
          "base_uri": "https://localhost:8080/"
        },
        "id": "cmxVuSs1MEwU",
        "outputId": "a2f45e73-3390-46f7-d61e-b9b2cb4c9ea1"
      },
      "execution_count": 3,
      "outputs": [
        {
          "output_type": "stream",
          "name": "stdout",
          "text": [
            "[1, 4, 9, 16, 25]\n"
          ]
        }
      ]
    },
    {
      "cell_type": "markdown",
      "source": [
        "# SETS : Built in data type in python\n",
        "unordered collection                                \n",
        "does not allows duplicate                          \n",
        "these are useful to perform op like union intersection,difference etc ."
      ],
      "metadata": {
        "id": "Wu7-YryDNInT"
      }
    },
    {
      "cell_type": "code",
      "source": [
        "my_names = {'tanu', 'sraddha', 'priyanka', 'pritha'}  # this is fine\n",
        "\n",
        "my_list = [10, 12, 14, 16, 18, 10]\n",
        "vasu_set = set(my_list)\n",
        "print(vasu_set)\n",
        "\n",
        "vasu_set.add(34)\n",
        "\n",
        "print(vasu_set)\n",
        "\n",
        "vasu_set.remove(14)\n",
        "print(vasu_set)\n",
        "\n",
        "vasu_set.discard(12)   # same like remove, but if the element is not present till it wil not show error\n",
        "print(vasu_set)\n",
        "\n",
        "vasu_set.clear()\n",
        "print(vasu_set)\n"
      ],
      "metadata": {
        "colab": {
          "base_uri": "https://localhost:8080/"
        },
        "id": "AlBAHkAUUxpS",
        "outputId": "dc563a53-3891-44c7-a36a-6c5639e4db7b"
      },
      "execution_count": 7,
      "outputs": [
        {
          "output_type": "stream",
          "name": "stdout",
          "text": [
            "{10, 12, 14, 16, 18}\n",
            "{34, 10, 12, 14, 16, 18}\n",
            "{34, 10, 12, 16, 18}\n",
            "{34, 10, 16, 18}\n",
            "set()\n"
          ]
        }
      ]
    },
    {
      "cell_type": "code",
      "source": [
        "a={\"Apple\",\"ball\",\"cat\"}\n",
        "b={\"ball\",\"dog\",\"cat\",\"egg\"}\n",
        "\n",
        "# union\n",
        "c=a.union(b)\n",
        "print(c)\n",
        " # second way to do union\n",
        "\n",
        "d=a|b\n",
        "print(d)\n",
        "\n",
        "# intersection\n",
        "e=a.intersection(b)\n",
        "print(e)\n",
        "# second way to do intersection\n",
        "f=a&b\n",
        "print(f)"
      ],
      "metadata": {
        "colab": {
          "base_uri": "https://localhost:8080/"
        },
        "id": "JP_gomF9WBrZ",
        "outputId": "9689902e-306f-4ce4-f2e7-d359f0b753d2"
      },
      "execution_count": 10,
      "outputs": [
        {
          "output_type": "stream",
          "name": "stdout",
          "text": [
            "{'egg', 'dog', 'cat', 'Apple', 'ball'}\n",
            "{'egg', 'dog', 'cat', 'Apple', 'ball'}\n",
            "{'cat', 'ball'}\n",
            "{'cat', 'ball'}\n"
          ]
        }
      ]
    },
    {
      "cell_type": "code",
      "source": [],
      "metadata": {
        "id": "Oi6HzeiEYYnB"
      },
      "execution_count": null,
      "outputs": []
    }
  ]
}