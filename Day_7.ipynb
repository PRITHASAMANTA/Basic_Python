{
  "nbformat": 4,
  "nbformat_minor": 0,
  "metadata": {
    "colab": {
      "provenance": []
    },
    "kernelspec": {
      "name": "python3",
      "display_name": "Python 3"
    },
    "language_info": {
      "name": "python"
    }
  },
  "cells": [
    {
      "cell_type": "markdown",
      "source": [
        "# Exception Handling  : is an error which occurs at the time of execution of a program.\n",
        "# Exceptions are not syntactic error\n",
        "\n",
        "if i write print(x) : there is no syntax error but the variable is not declared.so it is an exception!"
      ],
      "metadata": {
        "id": "i0RAlx5bS_h5"
      }
    },
    {
      "cell_type": "code",
      "execution_count": 3,
      "metadata": {
        "colab": {
          "base_uri": "https://localhost:8080/"
        },
        "id": "-pm6KPYoS2Ip",
        "outputId": "5d03f166-5de8-491e-d962-08b698a66392"
      },
      "outputs": [
        {
          "output_type": "stream",
          "name": "stdout",
          "text": [
            "An exception occured\n",
            "The exception handling process is over\n"
          ]
        }
      ],
      "source": [
        "#for exception handling , we use try and except blocks\n",
        "try:\n",
        "    print(x)\n",
        "except:\n",
        "    print(\"An exception occured\")\n",
        "finally:\n",
        "  print(\"The exception handling process is over\")"
      ]
    },
    {
      "cell_type": "code",
      "source": [
        "try:\n",
        "    print(10)\n",
        "except:\n",
        "    print(\"An exception occured\")\n",
        "finally:\n",
        "  print(\"The exception handling process is over\")"
      ],
      "metadata": {
        "colab": {
          "base_uri": "https://localhost:8080/"
        },
        "id": "nTZ9I7TzUSoz",
        "outputId": "1199c542-2731-47ed-8c27-2d72ba52cb38"
      },
      "execution_count": 4,
      "outputs": [
        {
          "output_type": "stream",
          "name": "stdout",
          "text": [
            "10\n",
            "The exception handling process is over\n"
          ]
        }
      ]
    },
    {
      "cell_type": "markdown",
      "source": [
        "#File handling : f.open() ---->for opening the file\n",
        "it can take only two argument, one is file name other one is mode,\n",
        "f.open(\"filename.txt\",\"mode\")\n",
        "modes are : read--->\"r\"\n",
        "            write--->\"w\"\n",
        "            text---->\"t\"\n",
        "            append--->\"a\"\n",
        "            create--->\"x\"\n",
        "\n",
        "  # f.open(\"Arithmetic.txt\",\"x\")       ----> it will throw an error if file exist otherwise it will create a file named arithmetic.\n"
      ],
      "metadata": {
        "id": "dj8ab5obVIXe"
      }
    },
    {
      "cell_type": "code",
      "source": [
        "try:\n",
        "    f.open(\"demofile.txt\",) # exception occurs here\n",
        "    try:\n",
        "        f.write(\"Lorum Ipsum\")\n",
        "    except:\n",
        "        print(\"Something went wrong when writing to the file\")\n",
        "    finally:\n",
        "         print(\"The exception handling process is over\")\n",
        "except:\n",
        "    print(\"An exception occured\")\n"
      ],
      "metadata": {
        "colab": {
          "base_uri": "https://localhost:8080/"
        },
        "id": "1Xb_SFr7VGMm",
        "outputId": "2dc2fd4c-a86c-4d71-871c-ecc74f3ac735"
      },
      "execution_count": 6,
      "outputs": [
        {
          "output_type": "stream",
          "name": "stdout",
          "text": [
            "An exception occured\n"
          ]
        }
      ]
    },
    {
      "cell_type": "code",
      "source": [],
      "metadata": {
        "id": "EF7Z1946W6oV"
      },
      "execution_count": null,
      "outputs": []
    }
  ]
}