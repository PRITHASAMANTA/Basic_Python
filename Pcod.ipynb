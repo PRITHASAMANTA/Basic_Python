{
  "nbformat": 4,
  "nbformat_minor": 0,
  "metadata": {
    "colab": {
      "provenance": [],
      "authorship_tag": "ABX9TyNJr0aJNXAO+2OFqHmwqeAw",
      "include_colab_link": true
    },
    "kernelspec": {
      "name": "python3",
      "display_name": "Python 3"
    },
    "language_info": {
      "name": "python"
    }
  },
  "cells": [
    {
      "cell_type": "markdown",
      "metadata": {
        "id": "view-in-github",
        "colab_type": "text"
      },
      "source": [
        "<a href=\"https://colab.research.google.com/github/PRITHASAMANTA/Basic_Python/blob/main/Pcod.ipynb\" target=\"_parent\"><img src=\"https://colab.research.google.com/assets/colab-badge.svg\" alt=\"Open In Colab\"/></a>"
      ]
    },
    {
      "cell_type": "markdown",
      "source": [
        "\n",
        "#Data collection"
      ],
      "metadata": {
        "id": "Xm_PR-2SwkqD"
      }
    },
    {
      "cell_type": "code",
      "execution_count": 1,
      "metadata": {
        "id": "_yGohr-Aqj2G"
      },
      "outputs": [],
      "source": [
        "import pandas as pd\n",
        "import matplotlib.pyplot as plt\n",
        "import seaborn as sns\n",
        "from sklearn.model_selection import train_test_split\n",
        "from sklearn.preprocessing import StandardScaler\n",
        "from sklearn.metrics import accuracy_score, classification_report, confusion_matrix\n",
        "from sklearn.linear_model import LogisticRegression\n",
        "from sklearn.neighbors import KNeighborsClassifier\n",
        "from sklearn.svm import SVC\n",
        "from sklearn.ensemble import RandomForestClassifier\n"
      ]
    },
    {
      "cell_type": "code",
      "source": [
        "data =pd.read_csv('/content/PCOS_infertility (1).csv')\n"
      ],
      "metadata": {
        "id": "2H97PNOpq3pr"
      },
      "execution_count": 2,
      "outputs": []
    },
    {
      "cell_type": "markdown",
      "source": [
        "#❓ Step 2: Null Value Handling\n",
        "We check for and optionally handle missing values."
      ],
      "metadata": {
        "id": "CSSAws1zwskD"
      }
    },
    {
      "cell_type": "code",
      "source": [
        "# Check for missing values\n",
        "print(\"\\n🔍 Missing values:\\n\", data.isnull().sum())\n",
        "\n",
        "# Optional: Drop rows with missing values\n",
        "# data = data.dropna()\n"
      ],
      "metadata": {
        "colab": {
          "base_uri": "https://localhost:8080/"
        },
        "id": "LojlA-LjrCzD",
        "outputId": "5ea1d57d-7d90-4f23-c0de-1c109057db89"
      },
      "execution_count": 4,
      "outputs": [
        {
          "output_type": "stream",
          "name": "stdout",
          "text": [
            "\n",
            "🔍 Missing values:\n",
            " Sl. No                    0\n",
            "Patient File No.          0\n",
            "PCOS (Y/N)                0\n",
            "  I   beta-HCG(mIU/mL)    0\n",
            "II    beta-HCG(mIU/mL)    0\n",
            "AMH(ng/mL)                0\n",
            "dtype: int64\n"
          ]
        }
      ]
    },
    {
      "cell_type": "markdown",
      "source": [
        "#🧹 Step 3: Data Preprocessing\n",
        "We'll prepare the data by removing non-numeric or irrelevant columns and separating features from labels.\n"
      ],
      "metadata": {
        "id": "V1FpCGrXwwx8"
      }
    },
    {
      "cell_type": "code",
      "source": [
        "# Drop non-numeric or irrelevant columns (e.g., 'Blood Group', 'Patient ID' if exists)\n",
        "columns_to_drop = ['Blood Group', 'Patient ID'] if 'Blood Group' in data.columns else []\n",
        "data = data.drop(columns=columns_to_drop, errors='ignore')\n",
        "\n",
        "# Define features and label\n",
        "X = data.drop(\"PCOS (Y/N)\", axis=1)\n",
        "y = data[\"PCOS (Y/N)\"]\n"
      ],
      "metadata": {
        "id": "nPq3ZnXorI0k"
      },
      "execution_count": 5,
      "outputs": []
    },
    {
      "cell_type": "markdown",
      "source": [
        "#📊 Step 4: Data Visualization (Optional)\n",
        "We visualize the class distribution."
      ],
      "metadata": {
        "id": "UMQKadFSw2w7"
      }
    },
    {
      "cell_type": "code",
      "source": [
        "\n",
        "\n",
        "sns.countplot(x=y)\n",
        "plt.title(\"PCOD Class Distribution\")\n",
        "plt.show()\n"
      ],
      "metadata": {
        "colab": {
          "base_uri": "https://localhost:8080/",
          "height": 472
        },
        "id": "IfHeybImrjAe",
        "outputId": "c6eb8109-e4a8-4caf-ff24-7ac2af712c38"
      },
      "execution_count": 6,
      "outputs": [
        {
          "output_type": "display_data",
          "data": {
            "text/plain": [
              "<Figure size 640x480 with 1 Axes>"
            ],
            "image/png": "[encoded data removed]"
          },
          "metadata": {}
        }
      ]
    },
    {
      "cell_type": "markdown",
      "source": [
        "#✂️ Step 5: Train-Test Split\n"
      ],
      "metadata": {
        "id": "LKI0Bn0Iw8id"
      }
    },
    {
      "cell_type": "code",
      "source": [
        "from sklearn.model_selection import train_test_split\n",
        "\n",
        "X_train, X_test, y_train, y_test = train_test_split(X, y, test_size=0.2, random_state=42)\n"
      ],
      "metadata": {
        "id": "j_h607aGrqpc"
      },
      "execution_count": 8,
      "outputs": []
    },
    {
      "cell_type": "markdown",
      "source": [
        "# Check Non_Numeric columns\n"
      ],
      "metadata": {
        "id": "surinkC1vUKH"
      }
    },
    {
      "cell_type": "code",
      "source": [
        "# Identify non-numeric columns\n",
        "non_numeric_cols = X.select_dtypes(include=['object']).columns\n",
        "print(\"🧾 Non-numeric columns:\\n\", non_numeric_cols)\n"
      ],
      "metadata": {
        "colab": {
          "base_uri": "https://localhost:8080/"
        },
        "id": "w2dGABXHu-Ih",
        "outputId": "4640b7cd-cf0e-4256-9373-88d36236123e"
      },
      "execution_count": 11,
      "outputs": [
        {
          "output_type": "stream",
          "name": "stdout",
          "text": [
            "🧾 Non-numeric columns:\n",
            " Index(['AMH(ng/mL)'], dtype='object')\n"
          ]
        }
      ]
    },
    {
      "cell_type": "markdown",
      "source": [
        "#Handle Non-Numeric Columns\n"
      ],
      "metadata": {
        "id": "irhAJJnlvbLx"
      }
    },
    {
      "cell_type": "code",
      "source": [
        "X = X.drop(columns=non_numeric_cols)\n"
      ],
      "metadata": {
        "id": "v5HCRjotvGcj"
      },
      "execution_count": 12,
      "outputs": []
    },
    {
      "cell_type": "markdown",
      "source": [
        "#Scale\n"
      ],
      "metadata": {
        "id": "6cwqiwNUvjgX"
      }
    },
    {
      "cell_type": "code",
      "source": [
        "from sklearn.preprocessing import StandardScaler\n",
        "\n",
        "scaler = StandardScaler()\n",
        "X_scaled = scaler.fit_transform(X)\n"
      ],
      "metadata": {
        "id": "IBVOmP4qvLlJ"
      },
      "execution_count": 13,
      "outputs": []
    },
    {
      "cell_type": "code",
      "source": [
        "from sklearn.model_selection import train_test_split\n",
        "\n",
        "X_train, X_test, y_train, y_test = train_test_split(X, y, test_size=0.2, random_state=42)\n"
      ],
      "metadata": {
        "id": "0trp2xlevmLX"
      },
      "execution_count": 14,
      "outputs": []
    },
    {
      "cell_type": "markdown",
      "source": [
        "#Define and Train multiple models\n"
      ],
      "metadata": {
        "id": "TkQHTXfQv52O"
      }
    },
    {
      "cell_type": "code",
      "source": [
        "# Define models\n",
        "models = {\n",
        "    \"Logistic Regression\": LogisticRegression(),\n",
        "    \"KNN\": KNeighborsClassifier(),\n",
        "    \"SVM\": SVC(),\n",
        "    \"Random Forest\": RandomForestClassifier(random_state=42)\n",
        "}\n",
        "\n",
        "# Store results\n",
        "results = {}\n",
        "\n",
        "# Train and test each model\n",
        "for name, model in models.items():\n",
        "    model.fit(X_train, y_train)\n",
        "    y_pred = model.predict(X_test)\n",
        "    acc = accuracy_score(y_test, y_pred)\n",
        "    results[name] = acc\n",
        "    print(f\"\\n🔍 {name}\")\n",
        "    print(\"Accuracy:\", acc)\n",
        "    print(\"Confusion Matrix:\\n\", confusion_matrix(y_test, y_pred))\n",
        "    print(\"Classification Report:\\n\", classification_report(y_test, y_pred))\n"
      ],
      "metadata": {
        "colab": {
          "base_uri": "https://localhost:8080/"
        },
        "id": "5Ytsaop4v3I3",
        "outputId": "7fdc7f21-75fe-4819-e2e3-8e7e96cbf9f8"
      },
      "execution_count": 15,
      "outputs": [
        {
          "output_type": "stream",
          "name": "stdout",
          "text": [
            "\n",
            "🔍 Logistic Regression\n",
            "Accuracy: 0.7064220183486238\n",
            "Confusion Matrix:\n",
            " [[77  0]\n",
            " [32  0]]\n",
            "Classification Report:\n",
            "               precision    recall  f1-score   support\n",
            "\n",
            "           0       0.71      1.00      0.83        77\n",
            "           1       0.00      0.00      0.00        32\n",
            "\n",
            "    accuracy                           0.71       109\n",
            "   macro avg       0.35      0.50      0.41       109\n",
            "weighted avg       0.50      0.71      0.58       109\n",
            "\n",
            "\n",
            "🔍 KNN\n",
            "Accuracy: 0.7155963302752294\n",
            "Confusion Matrix:\n",
            " [[70  7]\n",
            " [24  8]]\n",
            "Classification Report:\n",
            "               precision    recall  f1-score   support\n",
            "\n",
            "           0       0.74      0.91      0.82        77\n",
            "           1       0.53      0.25      0.34        32\n",
            "\n",
            "    accuracy                           0.72       109\n",
            "   macro avg       0.64      0.58      0.58       109\n",
            "weighted avg       0.68      0.72      0.68       109\n",
            "\n",
            "\n",
            "🔍 SVM\n",
            "Accuracy: 0.7064220183486238\n",
            "Confusion Matrix:\n",
            " [[77  0]\n",
            " [32  0]]\n",
            "Classification Report:\n",
            "               precision    recall  f1-score   support\n",
            "\n",
            "           0       0.71      1.00      0.83        77\n",
            "           1       0.00      0.00      0.00        32\n",
            "\n",
            "    accuracy                           0.71       109\n",
            "   macro avg       0.35      0.50      0.41       109\n",
            "weighted avg       0.50      0.71      0.58       109\n",
            "\n"
          ]
        },
        {
          "output_type": "stream",
          "name": "stderr",
          "text": [
            "/usr/local/lib/python3.11/dist-packages/sklearn/metrics/_classification.py:1565: UndefinedMetricWarning: Precision is ill-defined and being set to 0.0 in labels with no predicted samples. Use `zero_division` parameter to control this behavior.\n",
            "  _warn_prf(average, modifier, f\"{metric.capitalize()} is\", len(result))\n",
            "/usr/local/lib/python3.11/dist-packages/sklearn/metrics/_classification.py:1565: UndefinedMetricWarning: Precision is ill-defined and being set to 0.0 in labels with no predicted samples. Use `zero_division` parameter to control this behavior.\n",
            "  _warn_prf(average, modifier, f\"{metric.capitalize()} is\", len(result))\n",
            "/usr/local/lib/python3.11/dist-packages/sklearn/metrics/_classification.py:1565: UndefinedMetricWarning: Precision is ill-defined and being set to 0.0 in labels with no predicted samples. Use `zero_division` parameter to control this behavior.\n",
            "  _warn_prf(average, modifier, f\"{metric.capitalize()} is\", len(result))\n",
            "/usr/local/lib/python3.11/dist-packages/sklearn/metrics/_classification.py:1565: UndefinedMetricWarning: Precision is ill-defined and being set to 0.0 in labels with no predicted samples. Use `zero_division` parameter to control this behavior.\n",
            "  _warn_prf(average, modifier, f\"{metric.capitalize()} is\", len(result))\n",
            "/usr/local/lib/python3.11/dist-packages/sklearn/metrics/_classification.py:1565: UndefinedMetricWarning: Precision is ill-defined and being set to 0.0 in labels with no predicted samples. Use `zero_division` parameter to control this behavior.\n",
            "  _warn_prf(average, modifier, f\"{metric.capitalize()} is\", len(result))\n",
            "/usr/local/lib/python3.11/dist-packages/sklearn/metrics/_classification.py:1565: UndefinedMetricWarning: Precision is ill-defined and being set to 0.0 in labels with no predicted samples. Use `zero_division` parameter to control this behavior.\n",
            "  _warn_prf(average, modifier, f\"{metric.capitalize()} is\", len(result))\n"
          ]
        },
        {
          "output_type": "stream",
          "name": "stdout",
          "text": [
            "\n",
            "🔍 Random Forest\n",
            "Accuracy: 0.7431192660550459\n",
            "Confusion Matrix:\n",
            " [[65 12]\n",
            " [16 16]]\n",
            "Classification Report:\n",
            "               precision    recall  f1-score   support\n",
            "\n",
            "           0       0.80      0.84      0.82        77\n",
            "           1       0.57      0.50      0.53        32\n",
            "\n",
            "    accuracy                           0.74       109\n",
            "   macro avg       0.69      0.67      0.68       109\n",
            "weighted avg       0.73      0.74      0.74       109\n",
            "\n"
          ]
        }
      ]
    },
    {
      "cell_type": "markdown",
      "source": [
        "#compare model accuracy"
      ],
      "metadata": {
        "id": "U99AeQCvwQlW"
      }
    },
    {
      "cell_type": "code",
      "source": [
        "# Plot comparison\n",
        "plt.figure(figsize=(8, 5))\n",
        "sns.barplot(x=list(results.keys()), y=list(results.values()))\n",
        "plt.title(\"Model Accuracy Comparison\")\n",
        "plt.ylabel(\"Accuracy\")\n",
        "plt.xticks(rotation=45)\n",
        "plt.show()\n"
      ],
      "metadata": {
        "colab": {
          "base_uri": "https://localhost:8080/",
          "height": 558
        },
        "id": "KKNMmmkav_zB",
        "outputId": "553dc9e1-077f-41a0-a3fb-6c63fdf21f34"
      },
      "execution_count": 16,
      "outputs": [
        {
          "output_type": "display_data",
          "data": {
            "text/plain": [
              "<Figure size 800x500 with 1 Axes>"
            ],
            "image/png": "[encoded data removed]"
          },
          "metadata": {}
        }
      ]
    },
    {
      "cell_type": "markdown",
      "source": [
        "#After plotting, you'll see which model gives the highest accuracy. You can conclude:\n",
        "\n",
        "“Among Logistic Regression, KNN, SVM, and Random Forest, the <best model> achieved the highest accuracy and performance for detecting PCOD. Random Forest often performs best due to its ensemble nature, but results may vary based on the dataset.”"
      ],
      "metadata": {
        "id": "loNuzhaNwcOK"
      }
    },
    {
      "cell_type": "code",
      "source": [],
      "metadata": {
        "id": "6hTSqnfBwTSo"
      },
      "execution_count": null,
      "outputs": []
    },
    {
      "cell_type": "markdown",
      "source": [],
      "metadata": {
        "id": "S-tRvzMOwbtJ"
      }
    }
  ]
}