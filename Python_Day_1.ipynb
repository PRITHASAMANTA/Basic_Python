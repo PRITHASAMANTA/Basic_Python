{
  "nbformat": 4,
  "nbformat_minor": 0,
  "metadata": {
    "colab": {
      "provenance": []
    },
    "kernelspec": {
      "name": "python3",
      "display_name": "Python 3"
    },
    "language_info": {
      "name": "python"
    }
  },
  "cells": [
    {
      "cell_type": "markdown",
      "source": [],
      "metadata": {
        "id": "9PdidQ-YS3pn"
      }
    },
    {
      "cell_type": "markdown",
      "source": [
        "# Python is  high level interpreted and general purpose language"
      ],
      "metadata": {
        "id": "jIfvhTHRTALi"
      }
    },
    {
      "cell_type": "markdown",
      "source": [
        "# syntax are the rules use to write any program"
      ],
      "metadata": {
        "id": "Yq6RsBprTJzM"
      }
    },
    {
      "cell_type": "markdown",
      "source": [
        "#Variables : It are the names of memory location that stores value\n"
      ],
      "metadata": {
        "id": "2OOaWXr6TTbc"
      }
    },
    {
      "cell_type": "code",
      "execution_count": null,
      "metadata": {
        "colab": {
          "base_uri": "https://localhost:8080/"
        },
        "id": "yaVZ_hypSxE_",
        "outputId": "00a12519-3ce9-4b17-ee0b-06cca4d225c0"
      },
      "outputs": [
        {
          "output_type": "stream",
          "name": "stdout",
          "text": [
            "Hello World\n"
          ]
        }
      ],
      "source": [
        "print(\"Hello World\")"
      ]
    },
    {
      "cell_type": "code",
      "source": [
        "a=10     # a is the variable that stores 10\n",
        "print(a)"
      ],
      "metadata": {
        "colab": {
          "base_uri": "https://localhost:8080/"
        },
        "id": "huYeA4GcS74X",
        "outputId": "52cb212b-f6b6-41f6-e3c3-a9835b4340a5"
      },
      "execution_count": null,
      "outputs": [
        {
          "output_type": "stream",
          "name": "stdout",
          "text": [
            "10\n"
          ]
        }
      ]
    },
    {
      "cell_type": "markdown",
      "source": [
        "# Data Types:\n",
        " x=14 # integer data type           \n",
        " name ='pritha' # string data type                       \n",
        " is_active = True # boolean                        \n",
        " price = 13.5 # float"
      ],
      "metadata": {
        "id": "sJYWuUZqTpte"
      }
    },
    {
      "cell_type": "code",
      "source": [
        "name=\"Pritha samanta\"\n",
        "print(name)"
      ],
      "metadata": {
        "colab": {
          "base_uri": "https://localhost:8080/"
        },
        "id": "hs8JloyVTeHZ",
        "outputId": "1998e175-c628-47d1-9b4b-e515cadedeea"
      },
      "execution_count": null,
      "outputs": [
        {
          "output_type": "stream",
          "name": "stdout",
          "text": [
            "Pritha samanta\n"
          ]
        }
      ]
    },
    {
      "cell_type": "code",
      "source": [
        "is_me_right = True\n",
        "print(is_me_right)"
      ],
      "metadata": {
        "colab": {
          "base_uri": "https://localhost:8080/"
        },
        "id": "jnEQV4i5Uqgs",
        "outputId": "0661a014-7c6c-4167-c090-3bbd3f18650c"
      },
      "execution_count": null,
      "outputs": [
        {
          "output_type": "stream",
          "name": "stdout",
          "text": [
            "True\n"
          ]
        }
      ]
    },
    {
      "cell_type": "markdown",
      "source": [
        "#OPERATOR : +,-,*,?,%"
      ],
      "metadata": {
        "id": "gfAZhO3GVICM"
      }
    },
    {
      "cell_type": "code",
      "source": [
        "num1 =10\n",
        "num2=20\n",
        "sum = num1 +num2\n",
        "minus = num1 - num2\n",
        "mul = num1 * num2\n",
        "div = num1 / num2\n",
        "mod = num1 % num2\n",
        "print(sum)\n",
        "print(minus)\n",
        "print(mul)\n",
        "print(div)\n",
        "print(mod)"
      ],
      "metadata": {
        "colab": {
          "base_uri": "https://localhost:8080/"
        },
        "id": "QpCGZT0DU0oE",
        "outputId": "78018ed8-1e78-4930-811c-adc0a80d0e1f"
      },
      "execution_count": null,
      "outputs": [
        {
          "output_type": "stream",
          "name": "stdout",
          "text": [
            "30\n",
            "-10\n",
            "200\n",
            "0.5\n",
            "10\n"
          ]
        }
      ]
    },
    {
      "cell_type": "code",
      "source": [
        "type(div)"
      ],
      "metadata": {
        "colab": {
          "base_uri": "https://localhost:8080/"
        },
        "id": "VkijJTnUVdq-",
        "outputId": "9e6b4436-ef28-4af2-979b-8568927e2f45"
      },
      "execution_count": null,
      "outputs": [
        {
          "output_type": "execute_result",
          "data": {
            "text/plain": [
              "float"
            ]
          },
          "metadata": {},
          "execution_count": 9
        }
      ]
    },
    {
      "cell_type": "code",
      "source": [
        "# Assignment operator\n",
        "num =14\n",
        "num+= 10\n",
        "num"
      ],
      "metadata": {
        "colab": {
          "base_uri": "https://localhost:8080/"
        },
        "id": "K8AlJ_MjVvnE",
        "outputId": "75ad1779-07e1-47ff-be9c-29d71300af68"
      },
      "execution_count": null,
      "outputs": [
        {
          "output_type": "execute_result",
          "data": {
            "text/plain": [
              "24"
            ]
          },
          "metadata": {},
          "execution_count": 10
        }
      ]
    },
    {
      "cell_type": "code",
      "source": [
        "# Swapping two no\n",
        "a=81\n",
        "b=18\n",
        "temp= a\n",
        "a=b;\n",
        "b=temp;\n",
        "print(a)\n",
        "print(b)"
      ],
      "metadata": {
        "colab": {
          "base_uri": "https://localhost:8080/"
        },
        "id": "pvhEGjInWJsj",
        "outputId": "be2f4a35-d327-4740-9821-7ea1928fe28a"
      },
      "execution_count": null,
      "outputs": [
        {
          "output_type": "stream",
          "name": "stdout",
          "text": [
            "18\n",
            "81\n"
          ]
        }
      ]
    },
    {
      "cell_type": "markdown",
      "source": [],
      "metadata": {
        "id": "kiUaEqjzYIV9"
      }
    },
    {
      "cell_type": "code",
      "source": [
        "# Swappig without third variable\n",
        "\n",
        "a=13\n",
        "b=7\n",
        "b=a+b\n",
        "a=b-a\n",
        "b=b-a\n",
        "print(a)\n",
        "print(b)"
      ],
      "metadata": {
        "colab": {
          "base_uri": "https://localhost:8080/"
        },
        "id": "MD2zBTwAW448",
        "outputId": "d22e32c4-8203-4bd9-bec5-7c2aaeeebcd8"
      },
      "execution_count": null,
      "outputs": [
        {
          "output_type": "stream",
          "name": "stdout",
          "text": [
            "7\n",
            "13\n"
          ]
        }
      ]
    },
    {
      "cell_type": "code",
      "source": [],
      "metadata": {
        "id": "D90Oya2DX9II"
      },
      "execution_count": null,
      "outputs": []
    }
  ]
}